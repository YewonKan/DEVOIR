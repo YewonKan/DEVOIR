{
  "cells": [
    {
      "cell_type": "markdown",
      "metadata": {
        "id": "view-in-github",
        "colab_type": "text"
      },
      "source": [
        "<a href=\"https://colab.research.google.com/github/YewonKan/DEVOIR/blob/master/Welcome_To_Colab.ipynb\" target=\"_parent\"><img src=\"https://colab.research.google.com/assets/colab-badge.svg\" alt=\"Open In Colab\"/></a>"
      ]
    },
    {
      "cell_type": "markdown",
      "source": [
        "# New Section"
      ],
      "metadata": {
        "id": "6oKP_HiTWepz"
      }
    },
    {
      "cell_type": "code",
      "source": [
        "from transformers import Wav2Vec2Model, Wav2Vec2Processor\n",
        "import torch\n",
        "import torch.nn as nn\n",
        "import configparser\n",
        "\n",
        "config = configparser.ConfigParser()\n",
        "config.read(\"/sample_data/AASIST.conf\")\n",
        "\n",
        "class SSLModel(nn.Module):\n",
        "    def __init__(self, device):\n",
        "        super(SSLModel, self).__init__()\n",
        "\n",
        "        # Load pre-trained Hugging Face model and processor\n",
        "        self.processor = Wav2Vec2Processor.from_pretrained(\"facebook/wav2vec2-large-xlsr-53\")\n",
        "        self.model = Wav2Vec2Model.from_pretrained(\"facebook/wav2vec2-large-xlsr-53\").to(device)\n",
        "\n",
        "        self.device = device\n",
        "        self.out_dim = self.model.config.hidden_size  # 1024\n",
        "\n",
        "    def extract_feat(self, input_data):\n",
        "        # input_data shape: (batch_size, 1, waveform_length)\n",
        "        if input_data.ndim == 3:\n",
        "            input_data = input_data.squeeze(1)\n",
        "\n",
        "        # Wav2Vec2Processor expects float values in range [-1, 1]\n",
        "        input_data = input_data.cpu().numpy()\n",
        "        inputs = self.processor(input_data, sampling_rate=16000, return_tensors=\"pt\", padding=True)\n",
        "        inputs = {k: v.to(self.device) for k, v in inputs.items()}\n",
        "\n",
        "        # Extract features from Hugging Face Wav2Vec2\n",
        "        with torch.no_grad():\n",
        "            outputs = self.model(**inputs)\n",
        "            embeddings = outputs.last_hidden_state  # shape: (batch, seq_len, hidden_dim)\n",
        "\n",
        "        return embeddings\n"
      ],
      "metadata": {
        "id": "KkMxTlOUWfVc"
      },
      "execution_count": 5,
      "outputs": []
    },
    {
      "cell_type": "code",
      "source": [],
      "metadata": {
        "id": "RV-gNv7mWf3T"
      },
      "execution_count": null,
      "outputs": []
    }
  ],
  "metadata": {
    "colab": {
      "name": "Welcome To Colab",
      "provenance": [],
      "include_colab_link": true
    },
    "kernelspec": {
      "display_name": "Python 3",
      "name": "python3"
    }
  },
  "nbformat": 4,
  "nbformat_minor": 0
}