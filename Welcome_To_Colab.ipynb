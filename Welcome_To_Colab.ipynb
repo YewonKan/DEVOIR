{
  "cells": [
    {
      "cell_type": "markdown",
      "metadata": {
        "id": "view-in-github",
        "colab_type": "text"
      },
      "source": [
        "<a href=\"https://colab.research.google.com/github/YewonKan/DEVOIR/blob/master/Welcome_To_Colab.ipynb\" target=\"_parent\"><img src=\"https://colab.research.google.com/assets/colab-badge.svg\" alt=\"Open In Colab\"/></a>"
      ]
    },
    {
      "cell_type": "markdown",
      "source": [
        "# New Section"
      ],
      "metadata": {
        "id": "6oKP_HiTWepz"
      }
    },
    {
      "cell_type": "code",
      "source": [
        "import json\n",
        "import torch\n",
        "import torch.nn as nn\n",
        "from transformers import Wav2Vec2Model, Wav2Vec2Processor\n",
        "\n",
        "class SSLModel(nn.Module):\n",
        "    def __init__(self, device):\n",
        "        super(SSLModel, self).__init__()\n",
        "        self.processor = Wav2Vec2Processor.from_pretrained(\"facebook/wav2vec2-large-xlsr-53\")\n",
        "        self.model = Wav2Vec2Model.from_pretrained(\"facebook/wav2vec2-large-xlsr-53\").to(device)\n",
        "        self.device = device\n",
        "        self.out_dim = self.model.config.hidden_size\n",
        "\n",
        "    def extract_feat(self, input_data):\n",
        "        if input_data.ndim == 3:\n",
        "            input_data = input_data.squeeze(1)\n",
        "        input_data = input_data.cpu().numpy()\n",
        "        inputs = self.processor(input_data, sampling_rate=16000, return_tensors=\"pt\", padding=True)\n",
        "        inputs = {k: v.to(self.device) for k, v in inputs.items()}\n",
        "        with torch.no_grad():\n",
        "            outputs = self.model(**inputs)\n",
        "            embeddings = outputs.last_hidden_state\n",
        "        return embeddings\n",
        "\n",
        "# Load configuration from JSON file\n",
        "with open(\"/sample_data/AASIST.conf\", \"r\") as f:\n",
        "    config = json.load(f)\n",
        "\n",
        "# Set device\n",
        "device = torch.device(\"cuda\" if torch.cuda.is_available() else \"cpu\")\n",
        "\n",
        "# Extract model configuration\n",
        "args = config[\"model_config\"]\n",
        "\n",
        "# Initialize the model with Hugging Face-based SSLModel\n",
        "model = Wav2Vec2Model(args, device=device)\n",
        "model.to(device)\n",
        "model.eval()\n"
      ],
      "metadata": {
        "id": "KkMxTlOUWfVc"
      },
      "execution_count": 2,
      "outputs": []
    },
    {
      "cell_type": "code",
      "source": [],
      "metadata": {
        "id": "RV-gNv7mWf3T"
      },
      "execution_count": null,
      "outputs": []
    }
  ],
  "metadata": {
    "colab": {
      "name": "Welcome To Colab",
      "provenance": [],
      "include_colab_link": true
    },
    "kernelspec": {
      "display_name": "Python 3",
      "name": "python3"
    }
  },
  "nbformat": 4,
  "nbformat_minor": 0
}